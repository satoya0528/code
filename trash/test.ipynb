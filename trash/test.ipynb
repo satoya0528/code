{
 "cells": [
  {
   "cell_type": "code",
   "execution_count": 7,
   "metadata": {},
   "outputs": [
    {
     "data": {
      "text/plain": [
       "'現地気圧 REAL,海面気圧 REAL,降水合計 REAL,1時間降水 REAL,10分降水 REAL,平均気温 REAL,最高気温 REAL,最低気温 REAL,平均湿度 REAL,最小湿度 REAL,平均風速 REAL,最大風速 REAL,風向 REAL,最大瞬間風速 REAL,最大瞬間風向 REAL,日照時間 REAL,降雪 REAL,積雪 REAL,昼 REAL,夜 REAL'"
      ]
     },
     "execution_count": 7,
     "metadata": {},
     "output_type": "execute_result"
    }
   ],
   "source": [
    "a = [\"現地気圧\", \"海面気圧\", \"降水合計\", \"1時間降水\", \"10分降水\", \"平均気温\", \"最高気温\", \"最低気温\", \"平均湿度\", \"最小湿度\", \"平均風速\", \"最大風速\", \"風向\", \"最大瞬間風速\", \"最大瞬間風向\", \"日照時間\", \"降雪\", \"積雪\", \"昼\", \"夜\"]\n",
    "a = [i + \" REAL\" for i in a]\n",
    "a = \",\".join(a)\n",
    "a"
   ]
  },
  {
   "cell_type": "code",
   "execution_count": 8,
   "metadata": {},
   "outputs": [
    {
     "ename": "SyntaxError",
     "evalue": "invalid decimal literal (3384001499.py, line 1)",
     "output_type": "error",
     "traceback": [
      "\u001b[0;36m  Cell \u001b[0;32mIn[8], line 1\u001b[0;36m\u001b[0m\n\u001b[0;31m    現地気圧 REAL,海面気圧 REAL,降水合計 REAL,1時間降水 REAL,10分降水 REAL,平均気温 REAL,最高気温 REAL,最低気温 REAL,平均湿度 REAL,最小湿度 REAL,平均風速 REAL,最大風速 REAL,風向 TEXT,最大瞬間風速 REAL,最大瞬間風向 TEXT,日照時間 REAL,降雪 REAL,積雪 REAL,昼 TEXT,夜 TEXT\u001b[0m\n\u001b[0m                                  ^\u001b[0m\n\u001b[0;31mSyntaxError\u001b[0m\u001b[0;31m:\u001b[0m invalid decimal literal\n"
     ]
    }
   ],
   "source": [
    "現地気圧 REAL,海面気圧 REAL,降水合計 REAL,1時間降水 REAL,10分降水 REAL,平均気温 REAL,最高気温 REAL,最低気温 REAL,平均湿度 REAL,最小湿度 REAL,平均風速 REAL,最大風速 REAL,風向 TEXT,最大瞬間風速 REAL,最大瞬間風向 TEXT,日照時間 REAL,降雪 REAL,積雪 REAL,昼 TEXT,夜 TEXT"
   ]
  },
  {
   "cell_type": "code",
   "execution_count": 9,
   "metadata": {},
   "outputs": [],
   "source": [
    "import numpy as np\n",
    "import pandas as pd\n",
    "from datetime import datetime"
   ]
  },
  {
   "cell_type": "code",
   "execution_count": null,
   "metadata": {},
   "outputs": [],
   "source": [
    "df = pd.read_csv(\"/Users/satoya01/Lectures/Lecture_2/ds_program/final/code/trash/spendings_std_1000.csv\")\n",
    "df[\"出費\"] = df[\"出費\"].round(-1).astype(int)\n",
    "df"
   ]
  },
  {
   "cell_type": "code",
   "execution_count": null,
   "metadata": {},
   "outputs": [],
   "source": [
    "path = '../db/出費.csv'\n",
    "df.to_csv(path, index=False)"
   ]
  },
  {
   "cell_type": "code",
   "execution_count": 22,
   "metadata": {},
   "outputs": [],
   "source": [
    "import random\n",
    "from datetime import datetime, timedelta\n",
    "spending_date = []\n",
    "# 開始日（2023年1月1日）を設定\n",
    "start_date = datetime(2023, 1, 1)\n",
    "\n",
    "# 終了日（2023年12月31日）を設定\n",
    "end_date = datetime(2023, 12, 31)\n",
    "\n",
    "# 日付範囲を生成\n",
    "date_range = [start_date + timedelta(days=x) for x in range((end_date - start_date).days + 1)]\n",
    "\n",
    "# 生成した日付を出力\n",
    "for date in date_range:\n",
    "    spending_date.append(date.strftime(\"%Y-%m-%d\"))\n"
   ]
  },
  {
   "cell_type": "code",
   "execution_count": 24,
   "metadata": {},
   "outputs": [],
   "source": [
    "df = pd.read_csv(\"/Users/satoya01/Lectures/Lecture_2/ds_program/final/code/trash/sun_day.csv\")\n",
    "a = [0,0,0,0,0,0,0,0,9,8,7,6,5,4,3,2,1,0,0,0,0,0,0,0,0,0,0,0,0,0,0,0,0,0,0,0,0,0,0,0,0,0,0]\n",
    "b = [1,1,2,2,2,2,2,2,2]\n",
    "spending =[]\n",
    "for i in range(len(df)):\n",
    "    if i == 0:\n",
    "        value = 3000 + (df.loc[0, \"平均気温\"] - df.loc[len(df)-1, \"平均気温\"])*1000 + np.random.randint(0, 11) * 10 + random.choice(a)\n",
    "    else:\n",
    "        value = 3000 + (df.loc[i, \"平均気温\"] - df.loc[i-1, \"平均気温\"])*1000 + np.random.randint(0, 11) * 10 + random.choice(a)\n",
    "        value = round(value)\n",
    "    if value < 0:\n",
    "        value = 0\n",
    "    spending.append(value)\n",
    "k = 0\n",
    "while k < len(spending):\n",
    "    spending[k] = 0\n",
    "    k += random.choice(b)\n"
   ]
  },
  {
   "cell_type": "code",
   "execution_count": 29,
   "metadata": {},
   "outputs": [],
   "source": [
    "df = list(zip(spending_date, spending))\n",
    "df = pd.DataFrame(df)\n",
    "df.to_csv(\"../db/出費.csv\", index=False)"
   ]
  }
 ],
 "metadata": {
  "kernelspec": {
   "display_name": "env",
   "language": "python",
   "name": "python3"
  },
  "language_info": {
   "codemirror_mode": {
    "name": "ipython",
    "version": 3
   },
   "file_extension": ".py",
   "mimetype": "text/x-python",
   "name": "python",
   "nbconvert_exporter": "python",
   "pygments_lexer": "ipython3",
   "version": "3.11.5"
  }
 },
 "nbformat": 4,
 "nbformat_minor": 2
}
