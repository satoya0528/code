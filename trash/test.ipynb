{
 "cells": [
  {
   "cell_type": "code",
   "execution_count": null,
   "metadata": {},
   "outputs": [],
   "source": [
    "a = [\"現地気圧\", \"海面気圧\", \"降水合計\", \"1時間降水\", \"10分降水\", \"平均気温\", \"最高気温\", \"最低気温\", \"平均湿度\", \"最小湿度\", \"平均風速\", \"最大風速\", \"風向\", \"最大瞬間風速\", \"最大瞬間風向\", \"日照時間\", \"降雪\", \"積雪\", \"昼\", \"夜\"]\n",
    "a = [i + \" REAL\" for i in a]\n",
    "a = \",\".join(a)\n",
    "a"
   ]
  },
  {
   "cell_type": "code",
   "execution_count": null,
   "metadata": {},
   "outputs": [],
   "source": [
    "現地気圧 REAL,海面気圧 REAL,降水合計 REAL,1時間降水 REAL,10分降水 REAL,平均気温 REAL,最高気温 REAL,最低気温 REAL,平均湿度 REAL,最小湿度 REAL,平均風速 REAL,最大風速 REAL,風向 TEXT,最大瞬間風速 REAL,最大瞬間風向 TEXT,日照時間 REAL,降雪 REAL,積雪 REAL,昼 TEXT,夜 TEXT"
   ]
  }
 ],
 "metadata": {
  "kernelspec": {
   "display_name": "env",
   "language": "python",
   "name": "python3"
  },
  "language_info": {
   "name": "python",
   "version": "3.11.5"
  }
 },
 "nbformat": 4,
 "nbformat_minor": 2
}
